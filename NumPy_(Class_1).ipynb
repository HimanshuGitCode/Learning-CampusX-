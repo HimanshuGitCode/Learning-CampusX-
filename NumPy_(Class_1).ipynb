{
  "nbformat": 4,
  "nbformat_minor": 0,
  "metadata": {
    "colab": {
      "provenance": [],
      "authorship_tag": "ABX9TyOC1oL7D7GJPA49Fi9c+gC+",
      "include_colab_link": true
    },
    "kernelspec": {
      "name": "python3",
      "display_name": "Python 3"
    },
    "language_info": {
      "name": "python"
    }
  },
  "cells": [
    {
      "cell_type": "markdown",
      "metadata": {
        "id": "view-in-github",
        "colab_type": "text"
      },
      "source": [
        "<a href=\"https://colab.research.google.com/github/HimanshuGitCode/Learning-CampusX-/blob/main/NumPy_(Class_1).ipynb\" target=\"_parent\"><img src=\"https://colab.research.google.com/assets/colab-badge.svg\" alt=\"Open In Colab\"/></a>"
      ]
    },
    {
      "cell_type": "code",
      "execution_count": 2,
      "metadata": {
        "colab": {
          "base_uri": "https://localhost:8080/"
        },
        "id": "BMHfcozdMhnA",
        "outputId": "23a2f067-6099-41ee-80df-2f32553443b3"
      },
      "outputs": [
        {
          "output_type": "stream",
          "name": "stdout",
          "text": [
            "[1 2 3]\n",
            "<class 'numpy.ndarray'>\n"
          ]
        }
      ],
      "source": [
        "#Creating NumPy Arrays\n",
        "\n",
        "import numpy as np #importing NumPY\n",
        "\n",
        "a = np.array([1,2,3]) #NumPy Array Created(1D Array)\n",
        "print(a) #print function\n",
        "print(type(a)) #type of data types\n",
        "\n",
        "#1D Array is also know as Vector"
      ]
    },
    {
      "cell_type": "code",
      "source": [
        "#2D NumPy Array\n",
        "\n",
        "b= np.array ([[1,2,3],[4,5,6]])\n",
        "print(b)\n",
        "\n",
        "#2D and 3D Array is also know as matrix."
      ],
      "metadata": {
        "colab": {
          "base_uri": "https://localhost:8080/"
        },
        "id": "digaQAcbM07i",
        "outputId": "7ac8e63d-fb90-4229-d9c8-ddd58e7a3e3e"
      },
      "execution_count": 3,
      "outputs": [
        {
          "output_type": "stream",
          "name": "stdout",
          "text": [
            "[[1 2 3]\n",
            " [4 5 6]]\n"
          ]
        }
      ]
    },
    {
      "cell_type": "code",
      "source": [
        "#3D Array\n",
        "\n",
        "c = np.array([[1,2,3],[4,5,6],[7,8,9]])\n",
        "print(c)\n",
        "\n",
        "#3D NumPy array is also know as Tensor."
      ],
      "metadata": {
        "colab": {
          "base_uri": "https://localhost:8080/"
        },
        "id": "stc7lBn_O1DH",
        "outputId": "3540dcf6-6c09-480c-f6b8-c19819dcc759"
      },
      "execution_count": 4,
      "outputs": [
        {
          "output_type": "stream",
          "name": "stdout",
          "text": [
            "[[1 2 3]\n",
            " [4 5 6]\n",
            " [7 8 9]]\n"
          ]
        }
      ]
    },
    {
      "cell_type": "code",
      "source": [
        "#Custom Data Types NumPy Array (Float)\n",
        "\n",
        "np.array([1,2,3],dtype=float)"
      ],
      "metadata": {
        "colab": {
          "base_uri": "https://localhost:8080/"
        },
        "id": "LQLv60l3Omf6",
        "outputId": "ce7a7778-0617-4615-e1c9-4bac1c556dbc"
      },
      "execution_count": 5,
      "outputs": [
        {
          "output_type": "execute_result",
          "data": {
            "text/plain": [
              "array([1., 2., 3.])"
            ]
          },
          "metadata": {},
          "execution_count": 5
        }
      ]
    },
    {
      "cell_type": "code",
      "source": [
        "#Custom Data Types NumPy Array (Bool)\n",
        "\n",
        "np.array([1,2,3,0],dtype= bool)"
      ],
      "metadata": {
        "colab": {
          "base_uri": "https://localhost:8080/"
        },
        "id": "kO__aqnrPnw-",
        "outputId": "7598a5d1-9eae-44fd-e4d9-58eec231a49b"
      },
      "execution_count": 6,
      "outputs": [
        {
          "output_type": "execute_result",
          "data": {
            "text/plain": [
              "array([ True,  True,  True, False])"
            ]
          },
          "metadata": {},
          "execution_count": 6
        }
      ]
    },
    {
      "cell_type": "code",
      "source": [
        "#Custom Data Types NumPy Array (Complex)\n",
        "\n",
        "np.array([1,2,3],dtype=complex)"
      ],
      "metadata": {
        "colab": {
          "base_uri": "https://localhost:8080/"
        },
        "id": "ldQ1P3l5Q4V9",
        "outputId": "d375fc6e-17cc-4d02-c595-df94110327b0"
      },
      "execution_count": 7,
      "outputs": [
        {
          "output_type": "execute_result",
          "data": {
            "text/plain": [
              "array([1.+0.j, 2.+0.j, 3.+0.j])"
            ]
          },
          "metadata": {},
          "execution_count": 7
        }
      ]
    },
    {
      "cell_type": "code",
      "source": [
        "#NumPy Arange (Work Like a Python Range[Frist one Included and Last one Excluded])\n",
        "\n",
        "#Array can be created with Array and Arange\n",
        "\n",
        "np.arange(1,11)"
      ],
      "metadata": {
        "colab": {
          "base_uri": "https://localhost:8080/"
        },
        "id": "jAOSg_MORRql",
        "outputId": "96e2919a-5b57-44d7-def9-b27dbe85fca7"
      },
      "execution_count": 8,
      "outputs": [
        {
          "output_type": "execute_result",
          "data": {
            "text/plain": [
              "array([ 1,  2,  3,  4,  5,  6,  7,  8,  9, 10])"
            ]
          },
          "metadata": {},
          "execution_count": 8
        }
      ]
    },
    {
      "cell_type": "code",
      "source": [
        "#NumPy Arange With Gap (4 Will be taken as Arange)\n",
        "\n",
        "np.arange(1,20,4)"
      ],
      "metadata": {
        "colab": {
          "base_uri": "https://localhost:8080/"
        },
        "id": "8uitpG-ZRsEN",
        "outputId": "c78fb632-1f2c-486c-975e-2ef5ae7fc848"
      },
      "execution_count": 9,
      "outputs": [
        {
          "output_type": "execute_result",
          "data": {
            "text/plain": [
              "array([ 1,  5,  9, 13, 17])"
            ]
          },
          "metadata": {},
          "execution_count": 9
        }
      ]
    },
    {
      "cell_type": "code",
      "source": [
        "#NumPy Function Reshape\n",
        "\n",
        "np.arange(1,11).reshape(5,2) #(5 is row and 2 is column)"
      ],
      "metadata": {
        "colab": {
          "base_uri": "https://localhost:8080/"
        },
        "id": "JbZIKYOhR-qo",
        "outputId": "902887e6-1c75-489a-a1e2-bad188d14194"
      },
      "execution_count": 10,
      "outputs": [
        {
          "output_type": "execute_result",
          "data": {
            "text/plain": [
              "array([[ 1,  2],\n",
              "       [ 3,  4],\n",
              "       [ 5,  6],\n",
              "       [ 7,  8],\n",
              "       [ 9, 10]])"
            ]
          },
          "metadata": {},
          "execution_count": 10
        }
      ]
    },
    {
      "cell_type": "code",
      "source": [
        "np.arange(1,13).reshape(3,4)"
      ],
      "metadata": {
        "colab": {
          "base_uri": "https://localhost:8080/"
        },
        "id": "J75itIAtU4xx",
        "outputId": "04ca11b5-1a46-403b-e6cb-43869981136d"
      },
      "execution_count": 11,
      "outputs": [
        {
          "output_type": "execute_result",
          "data": {
            "text/plain": [
              "array([[ 1,  2,  3,  4],\n",
              "       [ 5,  6,  7,  8],\n",
              "       [ 9, 10, 11, 12]])"
            ]
          },
          "metadata": {},
          "execution_count": 11
        }
      ]
    },
    {
      "cell_type": "code",
      "source": [
        "#NumPy Aray Ones\n",
        "\n",
        "np.ones((3,4))\n",
        "\n",
        "#Use Case of Np.ones:- Use in Neural Network and Use in Deep Learning and Use in intialization"
      ],
      "metadata": {
        "colab": {
          "base_uri": "https://localhost:8080/"
        },
        "id": "A-N06lyNUU3H",
        "outputId": "ee43c328-8fc1-4634-f724-cef4209a5aa4"
      },
      "execution_count": 23,
      "outputs": [
        {
          "output_type": "execute_result",
          "data": {
            "text/plain": [
              "array([[1., 1., 1., 1.],\n",
              "       [1., 1., 1., 1.],\n",
              "       [1., 1., 1., 1.]])"
            ]
          },
          "metadata": {},
          "execution_count": 23
        }
      ]
    },
    {
      "cell_type": "code",
      "source": [
        "#NumPy Array Zero\n",
        "\n",
        "np.zeros((4,3))\n",
        "\n"
      ],
      "metadata": {
        "colab": {
          "base_uri": "https://localhost:8080/"
        },
        "id": "swXc24zQWY4G",
        "outputId": "70af8408-7a78-4fc9-ce9d-21a1b1953673"
      },
      "execution_count": 24,
      "outputs": [
        {
          "output_type": "execute_result",
          "data": {
            "text/plain": [
              "array([[0., 0., 0.],\n",
              "       [0., 0., 0.],\n",
              "       [0., 0., 0.],\n",
              "       [0., 0., 0.]])"
            ]
          },
          "metadata": {},
          "execution_count": 24
        }
      ]
    },
    {
      "cell_type": "code",
      "source": [
        "#NumPy Random\n",
        "\n",
        "np.random.random((3,4))\n",
        "\n",
        "#Intialize With random Number"
      ],
      "metadata": {
        "colab": {
          "base_uri": "https://localhost:8080/"
        },
        "id": "ank1DR8bXFkt",
        "outputId": "fb0b67fe-18a7-45a6-efee-2ea68865c947"
      },
      "execution_count": 25,
      "outputs": [
        {
          "output_type": "execute_result",
          "data": {
            "text/plain": [
              "array([[0.26171625, 0.81276343, 0.50777022, 0.63005568],\n",
              "       [0.69871024, 0.17136742, 0.48546026, 0.74639706],\n",
              "       [0.01124352, 0.22754215, 0.87488084, 0.94715773]])"
            ]
          },
          "metadata": {},
          "execution_count": 25
        }
      ]
    },
    {
      "cell_type": "code",
      "source": [
        "#NumPy LinSpace\n",
        "#in a given rage it give number with equally distance\n",
        "\n",
        "np.linspace(-10,10,10) #(-10(lower Range) se lekar 10(Upper Range) tak 10(Number of intem that you want) number genrate kar ke do)"
      ],
      "metadata": {
        "id": "XGouVRjZYMla",
        "colab": {
          "base_uri": "https://localhost:8080/"
        },
        "outputId": "be485f27-5eca-48b9-8b73-3a57ffa79865"
      },
      "execution_count": 26,
      "outputs": [
        {
          "output_type": "execute_result",
          "data": {
            "text/plain": [
              "array([-10.        ,  -7.77777778,  -5.55555556,  -3.33333333,\n",
              "        -1.11111111,   1.11111111,   3.33333333,   5.55555556,\n",
              "         7.77777778,  10.        ])"
            ]
          },
          "metadata": {},
          "execution_count": 26
        }
      ]
    },
    {
      "cell_type": "code",
      "source": [
        "#np.identity\n",
        "\n",
        "#Indetity Matrix is that martix which diagnoal item are 1 and other diagonal item is zero\n",
        "\n",
        "np.identity(3)"
      ],
      "metadata": {
        "colab": {
          "base_uri": "https://localhost:8080/"
        },
        "id": "EPV9YUVxYYie",
        "outputId": "5770ddda-80af-44bc-b8f4-1db3157a236b"
      },
      "execution_count": 27,
      "outputs": [
        {
          "output_type": "execute_result",
          "data": {
            "text/plain": [
              "array([[1., 0., 0.],\n",
              "       [0., 1., 0.],\n",
              "       [0., 0., 1.]])"
            ]
          },
          "metadata": {},
          "execution_count": 27
        }
      ]
    },
    {
      "cell_type": "markdown",
      "source": [
        "# **Array Attributes**"
      ],
      "metadata": {
        "id": "qagHxg5eavV8"
      }
    },
    {
      "cell_type": "code",
      "source": [
        "a1 = np.arange(10) #1d array (vector)\n",
        "a2 = np.arange(12,dtype=float).reshape(3,4) #Matrix\n",
        "a3 = np.arange(8).reshape(2,2,2) #Tesor (3d)\n"
      ],
      "metadata": {
        "colab": {
          "base_uri": "https://localhost:8080/"
        },
        "id": "prOACHq6aFQc",
        "outputId": "d027fd47-dfb0-4786-b7dd-14aa4ddc1f76"
      },
      "execution_count": 19,
      "outputs": [
        {
          "output_type": "execute_result",
          "data": {
            "text/plain": [
              "array([[[0, 1],\n",
              "        [2, 3]],\n",
              "\n",
              "       [[4, 5],\n",
              "        [6, 7]]])"
            ]
          },
          "metadata": {},
          "execution_count": 19
        }
      ]
    },
    {
      "cell_type": "code",
      "source": [
        "#ndim (Number of dimension)\n",
        "\n",
        "print(a1.ndim) #1d array\n",
        "print(a2.ndim) #2d Array\n",
        "print(a3.ndim) #3d Array\n"
      ],
      "metadata": {
        "colab": {
          "base_uri": "https://localhost:8080/"
        },
        "id": "F2F6bus4bBtT",
        "outputId": "388d93ed-7e8f-4387-a8f2-ac4f595aed22"
      },
      "execution_count": 21,
      "outputs": [
        {
          "output_type": "stream",
          "name": "stdout",
          "text": [
            "1\n",
            "2\n",
            "3\n"
          ]
        }
      ]
    },
    {
      "cell_type": "code",
      "source": [],
      "metadata": {
        "id": "IKwaUQpHbTXq"
      },
      "execution_count": null,
      "outputs": []
    }
  ]
}