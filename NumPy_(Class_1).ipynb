{
  "cells": [
    {
      "cell_type": "markdown",
      "metadata": {
        "colab_type": "text",
        "id": "view-in-github"
      },
      "source": [
        "<a href=\"https://colab.research.google.com/github/HimanshuGitCode/Learning-CampusX-/blob/main/NumPy_(Class_1).ipynb\" target=\"_parent\"><img src=\"https://colab.research.google.com/assets/colab-badge.svg\" alt=\"Open In Colab\"/></a>"
      ]
    },
    {
      "cell_type": "code",
      "execution_count": 2,
      "metadata": {
        "colab": {
          "base_uri": "https://localhost:8080/"
        },
        "id": "BMHfcozdMhnA",
        "outputId": "23a2f067-6099-41ee-80df-2f32553443b3"
      },
      "outputs": [
        {
          "name": "stdout",
          "output_type": "stream",
          "text": [
            "[1 2 3]\n",
            "<class 'numpy.ndarray'>\n"
          ]
        }
      ],
      "source": [
        "#Creating NumPy Arrays\n",
        "\n",
        "import numpy as np #importing NumPY\n",
        "\n",
        "a = np.array([1,2,3]) #NumPy Array Created(1D Array)\n",
        "print(a) #print function\n",
        "print(type(a)) #type of data types\n",
        "\n",
        "#1D Array is also know as Vector"
      ]
    },
    {
      "cell_type": "code",
      "execution_count": 3,
      "metadata": {
        "colab": {
          "base_uri": "https://localhost:8080/"
        },
        "id": "digaQAcbM07i",
        "outputId": "7ac8e63d-fb90-4229-d9c8-ddd58e7a3e3e"
      },
      "outputs": [
        {
          "name": "stdout",
          "output_type": "stream",
          "text": [
            "[[1 2 3]\n",
            " [4 5 6]]\n"
          ]
        }
      ],
      "source": [
        "#2D NumPy Array\n",
        "\n",
        "b= np.array ([[1,2,3],[4,5,6]])\n",
        "print(b)\n",
        "\n",
        "#2D and 3D Array is also know as matrix."
      ]
    },
    {
      "cell_type": "code",
      "execution_count": 4,
      "metadata": {
        "colab": {
          "base_uri": "https://localhost:8080/"
        },
        "id": "stc7lBn_O1DH",
        "outputId": "3540dcf6-6c09-480c-f6b8-c19819dcc759"
      },
      "outputs": [
        {
          "name": "stdout",
          "output_type": "stream",
          "text": [
            "[[1 2 3]\n",
            " [4 5 6]\n",
            " [7 8 9]]\n"
          ]
        }
      ],
      "source": [
        "#3D Array\n",
        "\n",
        "c = np.array([[1,2,3],[4,5,6],[7,8,9]])\n",
        "print(c)\n",
        "\n",
        "#3D NumPy array is also know as Tensor."
      ]
    },
    {
      "cell_type": "code",
      "execution_count": 5,
      "metadata": {
        "colab": {
          "base_uri": "https://localhost:8080/"
        },
        "id": "LQLv60l3Omf6",
        "outputId": "ce7a7778-0617-4615-e1c9-4bac1c556dbc"
      },
      "outputs": [
        {
          "data": {
            "text/plain": [
              "array([1., 2., 3.])"
            ]
          },
          "execution_count": 5,
          "metadata": {},
          "output_type": "execute_result"
        }
      ],
      "source": [
        "#Custom Data Types NumPy Array (Float)\n",
        "\n",
        "np.array([1,2,3],dtype=float)"
      ]
    },
    {
      "cell_type": "code",
      "execution_count": 6,
      "metadata": {
        "colab": {
          "base_uri": "https://localhost:8080/"
        },
        "id": "kO__aqnrPnw-",
        "outputId": "7598a5d1-9eae-44fd-e4d9-58eec231a49b"
      },
      "outputs": [
        {
          "data": {
            "text/plain": [
              "array([ True,  True,  True, False])"
            ]
          },
          "execution_count": 6,
          "metadata": {},
          "output_type": "execute_result"
        }
      ],
      "source": [
        "#Custom Data Types NumPy Array (Bool)\n",
        "\n",
        "np.array([1,2,3,0],dtype= bool)"
      ]
    },
    {
      "cell_type": "code",
      "execution_count": 7,
      "metadata": {
        "colab": {
          "base_uri": "https://localhost:8080/"
        },
        "id": "ldQ1P3l5Q4V9",
        "outputId": "d375fc6e-17cc-4d02-c595-df94110327b0"
      },
      "outputs": [
        {
          "data": {
            "text/plain": [
              "array([1.+0.j, 2.+0.j, 3.+0.j])"
            ]
          },
          "execution_count": 7,
          "metadata": {},
          "output_type": "execute_result"
        }
      ],
      "source": [
        "#Custom Data Types NumPy Array (Complex)\n",
        "\n",
        "np.array([1,2,3],dtype=complex)"
      ]
    },
    {
      "cell_type": "code",
      "execution_count": 8,
      "metadata": {
        "colab": {
          "base_uri": "https://localhost:8080/"
        },
        "id": "jAOSg_MORRql",
        "outputId": "96e2919a-5b57-44d7-def9-b27dbe85fca7"
      },
      "outputs": [
        {
          "data": {
            "text/plain": [
              "array([ 1,  2,  3,  4,  5,  6,  7,  8,  9, 10])"
            ]
          },
          "execution_count": 8,
          "metadata": {},
          "output_type": "execute_result"
        }
      ],
      "source": [
        "#NumPy Arange (Work Like a Python Range[Frist one Included and Last one Excluded])\n",
        "\n",
        "#Array can be created with Array and Arange\n",
        "\n",
        "np.arange(1,11)"
      ]
    },
    {
      "cell_type": "code",
      "execution_count": 9,
      "metadata": {
        "colab": {
          "base_uri": "https://localhost:8080/"
        },
        "id": "8uitpG-ZRsEN",
        "outputId": "c78fb632-1f2c-486c-975e-2ef5ae7fc848"
      },
      "outputs": [
        {
          "data": {
            "text/plain": [
              "array([ 1,  5,  9, 13, 17])"
            ]
          },
          "execution_count": 9,
          "metadata": {},
          "output_type": "execute_result"
        }
      ],
      "source": [
        "#NumPy Arange With Gap (4 Will be taken as Arange)\n",
        "\n",
        "np.arange(1,20,4)"
      ]
    },
    {
      "cell_type": "code",
      "execution_count": 10,
      "metadata": {
        "colab": {
          "base_uri": "https://localhost:8080/"
        },
        "id": "JbZIKYOhR-qo",
        "outputId": "902887e6-1c75-489a-a1e2-bad188d14194"
      },
      "outputs": [
        {
          "data": {
            "text/plain": [
              "array([[ 1,  2],\n",
              "       [ 3,  4],\n",
              "       [ 5,  6],\n",
              "       [ 7,  8],\n",
              "       [ 9, 10]])"
            ]
          },
          "execution_count": 10,
          "metadata": {},
          "output_type": "execute_result"
        }
      ],
      "source": [
        "#NumPy Function Reshape\n",
        "\n",
        "np.arange(1,11).reshape(5,2) #(5 is row and 2 is column)"
      ]
    },
    {
      "cell_type": "code",
      "execution_count": 11,
      "metadata": {
        "colab": {
          "base_uri": "https://localhost:8080/"
        },
        "id": "J75itIAtU4xx",
        "outputId": "04ca11b5-1a46-403b-e6cb-43869981136d"
      },
      "outputs": [
        {
          "data": {
            "text/plain": [
              "array([[ 1,  2,  3,  4],\n",
              "       [ 5,  6,  7,  8],\n",
              "       [ 9, 10, 11, 12]])"
            ]
          },
          "execution_count": 11,
          "metadata": {},
          "output_type": "execute_result"
        }
      ],
      "source": [
        "np.arange(1,13).reshape(3,4)"
      ]
    },
    {
      "cell_type": "code",
      "execution_count": 12,
      "metadata": {
        "colab": {
          "base_uri": "https://localhost:8080/"
        },
        "id": "A-N06lyNUU3H",
        "outputId": "ee43c328-8fc1-4634-f724-cef4209a5aa4"
      },
      "outputs": [
        {
          "data": {
            "text/plain": [
              "array([[1., 1., 1., 1.],\n",
              "       [1., 1., 1., 1.],\n",
              "       [1., 1., 1., 1.]])"
            ]
          },
          "execution_count": 12,
          "metadata": {},
          "output_type": "execute_result"
        }
      ],
      "source": [
        "#NumPy Aray Ones\n",
        "\n",
        "np.ones((3,4))\n",
        "\n",
        "#Use Case of Np.ones:- Use in Neural Network and Use in Deep Learning and Use in intialization"
      ]
    },
    {
      "cell_type": "code",
      "execution_count": 13,
      "metadata": {
        "colab": {
          "base_uri": "https://localhost:8080/"
        },
        "id": "swXc24zQWY4G",
        "outputId": "70af8408-7a78-4fc9-ce9d-21a1b1953673"
      },
      "outputs": [
        {
          "data": {
            "text/plain": [
              "array([[0., 0., 0.],\n",
              "       [0., 0., 0.],\n",
              "       [0., 0., 0.],\n",
              "       [0., 0., 0.]])"
            ]
          },
          "execution_count": 13,
          "metadata": {},
          "output_type": "execute_result"
        }
      ],
      "source": [
        "#NumPy Array Zero\n",
        "\n",
        "np.zeros((4,3))\n",
        "\n"
      ]
    },
    {
      "cell_type": "code",
      "execution_count": 14,
      "metadata": {
        "colab": {
          "base_uri": "https://localhost:8080/"
        },
        "id": "ank1DR8bXFkt",
        "outputId": "fb0b67fe-18a7-45a6-efee-2ea68865c947"
      },
      "outputs": [
        {
          "data": {
            "text/plain": [
              "array([[0.3426045 , 0.12396662, 0.73551543, 0.40657812],\n",
              "       [0.03181752, 0.72068545, 0.20894505, 0.11644991],\n",
              "       [0.90185074, 0.15564291, 0.88502331, 0.54330436]])"
            ]
          },
          "execution_count": 14,
          "metadata": {},
          "output_type": "execute_result"
        }
      ],
      "source": [
        "#NumPy Random\n",
        "\n",
        "np.random.random((3,4))\n",
        "\n",
        "#Intialize With random Number"
      ]
    },
    {
      "cell_type": "code",
      "execution_count": 15,
      "metadata": {
        "colab": {
          "base_uri": "https://localhost:8080/"
        },
        "id": "XGouVRjZYMla",
        "outputId": "be485f27-5eca-48b9-8b73-3a57ffa79865"
      },
      "outputs": [
        {
          "data": {
            "text/plain": [
              "array([-10.        ,  -7.77777778,  -5.55555556,  -3.33333333,\n",
              "        -1.11111111,   1.11111111,   3.33333333,   5.55555556,\n",
              "         7.77777778,  10.        ])"
            ]
          },
          "execution_count": 15,
          "metadata": {},
          "output_type": "execute_result"
        }
      ],
      "source": [
        "#NumPy LinSpace\n",
        "#in a given rage it give number with equally distance\n",
        "\n",
        "np.linspace(-10,10,10) #(-10(lower Range) se lekar 10(Upper Range) tak 10(Number of intem that you want) number genrate kar ke do)"
      ]
    },
    {
      "cell_type": "code",
      "execution_count": 16,
      "metadata": {
        "colab": {
          "base_uri": "https://localhost:8080/"
        },
        "id": "EPV9YUVxYYie",
        "outputId": "5770ddda-80af-44bc-b8f4-1db3157a236b"
      },
      "outputs": [
        {
          "data": {
            "text/plain": [
              "array([[1., 0., 0.],\n",
              "       [0., 1., 0.],\n",
              "       [0., 0., 1.]])"
            ]
          },
          "execution_count": 16,
          "metadata": {},
          "output_type": "execute_result"
        }
      ],
      "source": [
        "#np.identity\n",
        "\n",
        "#Indetity Matrix is that martix which diagnoal item are 1 and other diagonal item is zero\n",
        "\n",
        "np.identity(3)"
      ]
    },
    {
      "cell_type": "markdown",
      "metadata": {
        "id": "qagHxg5eavV8"
      },
      "source": [
        "# **Array Attributes**"
      ]
    },
    {
      "cell_type": "code",
      "execution_count": 17,
      "metadata": {
        "colab": {
          "base_uri": "https://localhost:8080/"
        },
        "id": "prOACHq6aFQc",
        "outputId": "d027fd47-dfb0-4786-b7dd-14aa4ddc1f76"
      },
      "outputs": [],
      "source": [
        "a1 = np.arange(10) #1d array (vector)\n",
        "a2 = np.arange(12,dtype=float).reshape(3,4) #Matrix\n",
        "a3 = np.arange(8).reshape(2,2,2) #Tesor (3d)\n"
      ]
    },
    {
      "cell_type": "code",
      "execution_count": 18,
      "metadata": {
        "colab": {
          "base_uri": "https://localhost:8080/"
        },
        "id": "F2F6bus4bBtT",
        "outputId": "388d93ed-7e8f-4387-a8f2-ac4f595aed22"
      },
      "outputs": [
        {
          "name": "stdout",
          "output_type": "stream",
          "text": [
            "1\n",
            "2\n",
            "3\n"
          ]
        }
      ],
      "source": [
        "#ndim (Number of dimension)\n",
        "\n",
        "print(a1.ndim) #1d array\n",
        "print(a2.ndim) #2d Array\n",
        "print(a3.ndim) #3d Array\n"
      ]
    },
    {
      "cell_type": "code",
      "execution_count": 20,
      "metadata": {
        "id": "IKwaUQpHbTXq"
      },
      "outputs": [
        {
          "name": "stdout",
          "output_type": "stream",
          "text": [
            "(10,)\n",
            "(3, 4)\n",
            "(2, 2, 2)\n"
          ]
        }
      ],
      "source": [
        "#Shape\n",
        "\n",
        "print(a1.shape) #1d array\n",
        "print(a2.shape) #2d Array\n",
        "print(a3.shape) #3d Array"
      ]
    },
    {
      "cell_type": "code",
      "execution_count": 21,
      "metadata": {},
      "outputs": [
        {
          "name": "stdout",
          "output_type": "stream",
          "text": [
            "10\n",
            "12\n",
            "8\n"
          ]
        }
      ],
      "source": [
        "#Size\n",
        "print(a1.size) #1d array\n",
        "print(a2.size) #2d Array\n",
        "print(a3.size) #3d Array"
      ]
    },
    {
      "cell_type": "code",
      "execution_count": 22,
      "metadata": {},
      "outputs": [
        {
          "name": "stdout",
          "output_type": "stream",
          "text": [
            "4\n",
            "8\n",
            "4\n"
          ]
        }
      ],
      "source": [
        "#Item Size\n",
        "print(a1.itemsize) #1d array 32Bit integer (4Byte)\n",
        "print(a2.itemsize) #2d Array\n",
        "print(a3.itemsize) #3d Array\n"
      ]
    },
    {
      "cell_type": "code",
      "execution_count": 24,
      "metadata": {},
      "outputs": [
        {
          "name": "stdout",
          "output_type": "stream",
          "text": [
            "int32\n",
            "float64\n",
            "int32\n"
          ]
        }
      ],
      "source": [
        "#Data Type\n",
        "\n",
        "print(a1.dtype)\n",
        "print(a2.dtype)\n",
        "print(a3.dtype)"
      ]
    },
    {
      "cell_type": "markdown",
      "metadata": {},
      "source": [
        "# **Changing Datatype** "
      ]
    },
    {
      "cell_type": "code",
      "execution_count": 38,
      "metadata": {},
      "outputs": [
        {
          "data": {
            "text/plain": [
              "dtype('int32')"
            ]
          },
          "execution_count": 38,
          "metadata": {},
          "output_type": "execute_result"
        }
      ],
      "source": [
        "#astype = It is used to change the data type of the array\n",
        "\n",
        "#it can also help to optimize the memory where we have to need small number we can take 32 bit\n",
        "a3.astype(np.int64)\n",
        "a3.dtype "
      ]
    },
    {
      "cell_type": "markdown",
      "metadata": {},
      "source": [
        "# **Array Operations**"
      ]
    },
    {
      "cell_type": "code",
      "execution_count": 40,
      "metadata": {},
      "outputs": [
        {
          "data": {
            "text/plain": [
              "array([[12, 13, 14, 15],\n",
              "       [16, 17, 18, 19],\n",
              "       [20, 21, 22, 23]])"
            ]
          },
          "execution_count": 40,
          "metadata": {},
          "output_type": "execute_result"
        }
      ],
      "source": [
        "a1= np.arange(12).reshape(3,4)\n",
        "a2= np.arange(12,24).reshape(3,4)\n",
        "\n"
      ]
    },
    {
      "cell_type": "code",
      "execution_count": 41,
      "metadata": {},
      "outputs": [
        {
          "data": {
            "text/plain": [
              "array([[ 0,  1,  2,  3],\n",
              "       [ 4,  5,  6,  7],\n",
              "       [ 8,  9, 10, 11]])"
            ]
          },
          "execution_count": 41,
          "metadata": {},
          "output_type": "execute_result"
        }
      ],
      "source": [
        "a1"
      ]
    },
    {
      "cell_type": "code",
      "execution_count": 42,
      "metadata": {},
      "outputs": [
        {
          "data": {
            "text/plain": [
              "array([[12, 13, 14, 15],\n",
              "       [16, 17, 18, 19],\n",
              "       [20, 21, 22, 23]])"
            ]
          },
          "execution_count": 42,
          "metadata": {},
          "output_type": "execute_result"
        }
      ],
      "source": [
        "a2"
      ]
    },
    {
      "cell_type": "code",
      "execution_count": 43,
      "metadata": {},
      "outputs": [
        {
          "data": {
            "text/plain": [
              "array([[ 0,  2,  4,  6],\n",
              "       [ 8, 10, 12, 14],\n",
              "       [16, 18, 20, 22]])"
            ]
          },
          "execution_count": 43,
          "metadata": {},
          "output_type": "execute_result"
        }
      ],
      "source": [
        "#Scalar Operation\n",
        "a1 * 2 #it can multiply each element by 2"
      ]
    },
    {
      "cell_type": "code",
      "execution_count": 47,
      "metadata": {},
      "outputs": [
        {
          "data": {
            "text/plain": [
              "array([[False,  True,  True,  True],\n",
              "       [ True,  True,  True,  True],\n",
              "       [ True,  True,  True,  True]])"
            ]
          },
          "execution_count": 47,
          "metadata": {},
          "output_type": "execute_result"
        }
      ],
      "source": [
        "#Relational Operation\n",
        "\n",
        "a2>12 #it will ask each number in a2 that you are grater than 5 or not and if yes it will giver answer in boolean\n",
        "#it can work is greater than,less than , equal to, not equal to etc."
      ]
    },
    {
      "cell_type": "code",
      "execution_count": 52,
      "metadata": {},
      "outputs": [
        {
          "data": {
            "text/plain": [
              "array([[12, 14, 16, 18],\n",
              "       [20, 22, 24, 26],\n",
              "       [28, 30, 32, 34]])"
            ]
          },
          "execution_count": 52,
          "metadata": {},
          "output_type": "execute_result"
        }
      ],
      "source": [
        "#Vector Operation\n",
        "#shape should be same\n",
        "a1+a2 #it will add each elment of a1 and a2 it also work with multiplication,substract,divsion , addtion etc."
      ]
    },
    {
      "cell_type": "markdown",
      "metadata": {},
      "source": [
        "# **Array Function**"
      ]
    },
    {
      "cell_type": "code",
      "execution_count": 55,
      "metadata": {},
      "outputs": [
        {
          "data": {
            "text/plain": [
              "array([[  5.,  93., 100.,  17.],\n",
              "       [ 67.,  95.,  44.,  38.],\n",
              "       [ 13.,  83.,  45.,  69.]])"
            ]
          },
          "execution_count": 55,
          "metadata": {},
          "output_type": "execute_result"
        }
      ],
      "source": [
        "a1 = np.random.random((3,4))\n",
        "a1 = np.round(a1*100)\n",
        "a1"
      ]
    },
    {
      "cell_type": "code",
      "execution_count": 56,
      "metadata": {},
      "outputs": [
        {
          "data": {
            "text/plain": [
              "100.0"
            ]
          },
          "execution_count": 56,
          "metadata": {},
          "output_type": "execute_result"
        }
      ],
      "source": [
        " #Max/Min/Sum/Prod\n",
        " np.max(a1) #Maximum Numbers "
      ]
    },
    {
      "cell_type": "code",
      "execution_count": 57,
      "metadata": {},
      "outputs": [
        {
          "data": {
            "text/plain": [
              "5.0"
            ]
          },
          "execution_count": 57,
          "metadata": {},
          "output_type": "execute_result"
        }
      ],
      "source": [
        "np.min(a1) #Minimum Numbers "
      ]
    },
    {
      "cell_type": "code",
      "execution_count": 58,
      "metadata": {},
      "outputs": [
        {
          "data": {
            "text/plain": [
              "669.0"
            ]
          },
          "execution_count": 58,
          "metadata": {},
          "output_type": "execute_result"
        }
      ],
      "source": [
        "np.sum(a1) #Sum of all the Numbers"
      ]
    },
    {
      "cell_type": "code",
      "execution_count": 59,
      "metadata": {},
      "outputs": [
        {
          "data": {
            "text/plain": [
              "2.81851015920903e+19"
            ]
          },
          "execution_count": 59,
          "metadata": {},
          "output_type": "execute_result"
        }
      ],
      "source": [
        "np.prod(a1) #Product of all the Numbers"
      ]
    },
    {
      "cell_type": "code",
      "execution_count": 60,
      "metadata": {},
      "outputs": [
        {
          "data": {
            "text/plain": [
              "array([ 67.,  95., 100.,  69.])"
            ]
          },
          "execution_count": 60,
          "metadata": {},
          "output_type": "execute_result"
        }
      ],
      "source": [
        " #if you want minimum, maximum, sum and product of each row and column\n",
        " \n",
        " np.max(a1,axis=0) #Column wise"
      ]
    },
    {
      "cell_type": "code",
      "execution_count": 61,
      "metadata": {},
      "outputs": [
        {
          "data": {
            "text/plain": [
              "array([100.,  95.,  83.])"
            ]
          },
          "execution_count": 61,
          "metadata": {},
          "output_type": "execute_result"
        }
      ],
      "source": [
        " np.max(a1,axis=1) #Row wise"
      ]
    },
    {
      "cell_type": "code",
      "execution_count": 62,
      "metadata": {},
      "outputs": [
        {
          "data": {
            "text/plain": [
              "array([  4355., 733305., 198000.,  44574.])"
            ]
          },
          "execution_count": 62,
          "metadata": {},
          "output_type": "execute_result"
        }
      ],
      "source": [
        " np.prod(a1,axis=0) #Column wise Multiplication"
      ]
    },
    {
      "cell_type": "code",
      "execution_count": 63,
      "metadata": {},
      "outputs": [
        {
          "data": {
            "text/plain": [
              "array([  790500., 10642280.,  3350295.])"
            ]
          },
          "execution_count": 63,
          "metadata": {},
          "output_type": "execute_result"
        }
      ],
      "source": [
        " np.prod(a1,axis=1) #Row wise Multiplication"
      ]
    },
    {
      "cell_type": "code",
      "execution_count": 69,
      "metadata": {},
      "outputs": [
        {
          "name": "stdout",
          "output_type": "stream",
          "text": [
            "55.75\n",
            "56.0\n",
            "[53.75 61.   52.5 ]\n",
            "[28.33333333 90.33333333 63.         41.33333333]\n",
            "[53.75 61.   52.5 ]\n",
            "[28.33333333 90.33333333 63.         41.33333333]\n"
          ]
        }
      ],
      "source": [
        "#Statical Function\n",
        "\n",
        "print(np.mean(a1)) #Mean of a1 matixes\n",
        "print(np.median(a1)) #Median of a1 matixes\n",
        "\n",
        "#Row and Column Wise Mean\n",
        "\n",
        "print(np.mean(a1,axis = 1)) #Row Wise\n",
        "print(np.mean(a1, axis = 0)) #Column Wise\n",
        "\n",
        "#Row and Column Wise Median\n",
        "\n",
        "print(np.mean(a1, axis = 1)) #Row Wise\n",
        "print(np.mean(a1, axis = 0)) #Column Wise"
      ]
    },
    {
      "cell_type": "code",
      "execution_count": 75,
      "metadata": {},
      "outputs": [
        {
          "name": "stdout",
          "output_type": "stream",
          "text": [
            "32.151010870577615\n",
            "[43.03123865 22.41651177 26.5471279 ]\n",
            "[27.53583524  5.24933858 26.16613588 21.35935912]\n"
          ]
        }
      ],
      "source": [
        "#Standard Deviation\n",
        "\n",
        "print(np.std(a1))\n",
        "\n",
        "#Starndard Deviaiton Row and Column Wise\n",
        "\n",
        "print(np.std(a1,axis = 1)) #Row Wise\n",
        "print(np.std(a1,axis = 0)) #Column Wise"
      ]
    },
    {
      "cell_type": "code",
      "execution_count": 77,
      "metadata": {},
      "outputs": [
        {
          "name": "stdout",
          "output_type": "stream",
          "text": [
            "1033.6875\n",
            "[1851.6875  502.5     704.75  ]\n",
            "[758.22222222  27.55555556 684.66666667 456.22222222]\n"
          ]
        }
      ],
      "source": [
        "#variance = Variance is a statistical measurement that shows how far each number in the array is spread out from the mean\n",
        "\n",
        "print(np.var(a1))\n",
        "print(np.var(a1,axis = 1)) #Row Wise\n",
        "print(np.var(a1,axis = 0)) #Column Wise"
      ]
    },
    {
      "cell_type": "code",
      "execution_count": 79,
      "metadata": {},
      "outputs": [
        {
          "name": "stdout",
          "output_type": "stream",
          "text": [
            "[[-0.95892427 -0.94828214 -0.50636564 -0.96139749]\n",
            " [-0.85551998  0.68326171  0.01770193  0.29636858]\n",
            " [ 0.42016704  0.96836446  0.85090352 -0.11478481]]\n",
            "[[ 0.28366219  0.3174287   0.86231887 -0.27516334]\n",
            " [-0.5177698   0.73017356  0.99984331  0.95507364]\n",
            " [ 0.90744678  0.24954012  0.52532199  0.99339038]]\n",
            "[[-3.38051501 -2.98738626 -0.58721392  3.49391565]\n",
            " [ 1.65231726  0.93575247  0.0177047   0.31030966]\n",
            " [ 0.46302113  3.88059631  1.61977519 -0.11554855]]\n"
          ]
        }
      ],
      "source": [
        "#Trignometric Function (Sin, Cos, Tan)\n",
        "\n",
        "print(np.sin(a1))\n",
        "print(np.cos(a1))\n",
        "print(np.tan(a1))\n",
        "\n"
      ]
    },
    {
      "cell_type": "code",
      "execution_count": 82,
      "metadata": {},
      "outputs": [
        {
          "data": {
            "text/plain": [
              "array([[114, 120, 126],\n",
              "       [378, 400, 422],\n",
              "       [642, 680, 718]])"
            ]
          },
          "execution_count": 82,
          "metadata": {},
          "output_type": "execute_result"
        }
      ],
      "source": [
        "#Dot Product:- taking the sum of a list comprehension performing element-wise multiplication\n",
        "\n",
        "# we have to check first martix colum and second martix row should be same\n",
        " \n",
        "a2 = np.arange(12).reshape(3,4) #3 columns and 4 rows\n",
        "a3= np.arange(12,24).reshape(4,3)\n",
        "\n",
        "np.dot(a2,a3) #it will give 3,3 matrix  "
      ]
    },
    {
      "cell_type": "code",
      "execution_count": null,
      "metadata": {},
      "outputs": [],
      "source": []
    }
  ],
  "metadata": {
    "colab": {
      "authorship_tag": "ABX9TyOC1oL7D7GJPA49Fi9c+gC+",
      "include_colab_link": true,
      "provenance": []
    },
    "kernelspec": {
      "display_name": "Python 3",
      "name": "python3"
    },
    "language_info": {
      "codemirror_mode": {
        "name": "ipython",
        "version": 3
      },
      "file_extension": ".py",
      "mimetype": "text/x-python",
      "name": "python",
      "nbconvert_exporter": "python",
      "pygments_lexer": "ipython3",
      "version": "3.12.3"
    }
  },
  "nbformat": 4,
  "nbformat_minor": 0
}
