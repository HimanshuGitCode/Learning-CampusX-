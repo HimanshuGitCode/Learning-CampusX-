{
  "cells": [
    {
      "cell_type": "markdown",
      "metadata": {
        "colab_type": "text",
        "id": "view-in-github"
      },
      "source": [
        "<a href=\"https://colab.research.google.com/github/HimanshuGitCode/Learning-CampusX-/blob/main/NumPy_(Class_1).ipynb\" target=\"_parent\"><img src=\"https://colab.research.google.com/assets/colab-badge.svg\" alt=\"Open In Colab\"/></a>"
      ]
    },
    {
      "cell_type": "code",
      "execution_count": 2,
      "metadata": {
        "colab": {
          "base_uri": "https://localhost:8080/"
        },
        "id": "BMHfcozdMhnA",
        "outputId": "23a2f067-6099-41ee-80df-2f32553443b3"
      },
      "outputs": [
        {
          "name": "stdout",
          "output_type": "stream",
          "text": [
            "[1 2 3]\n",
            "<class 'numpy.ndarray'>\n"
          ]
        }
      ],
      "source": [
        "#Creating NumPy Arrays\n",
        "\n",
        "import numpy as np #importing NumPY\n",
        "\n",
        "a = np.array([1,2,3]) #NumPy Array Created(1D Array)\n",
        "print(a) #print function\n",
        "print(type(a)) #type of data types\n",
        "\n",
        "#1D Array is also know as Vector"
      ]
    },
    {
      "cell_type": "code",
      "execution_count": 3,
      "metadata": {
        "colab": {
          "base_uri": "https://localhost:8080/"
        },
        "id": "digaQAcbM07i",
        "outputId": "7ac8e63d-fb90-4229-d9c8-ddd58e7a3e3e"
      },
      "outputs": [
        {
          "name": "stdout",
          "output_type": "stream",
          "text": [
            "[[1 2 3]\n",
            " [4 5 6]]\n"
          ]
        }
      ],
      "source": [
        "#2D NumPy Array\n",
        "\n",
        "b= np.array ([[1,2,3],[4,5,6]])\n",
        "print(b)\n",
        "\n",
        "#2D and 3D Array is also know as matrix."
      ]
    },
    {
      "cell_type": "code",
      "execution_count": 4,
      "metadata": {
        "colab": {
          "base_uri": "https://localhost:8080/"
        },
        "id": "stc7lBn_O1DH",
        "outputId": "3540dcf6-6c09-480c-f6b8-c19819dcc759"
      },
      "outputs": [
        {
          "name": "stdout",
          "output_type": "stream",
          "text": [
            "[[1 2 3]\n",
            " [4 5 6]\n",
            " [7 8 9]]\n"
          ]
        }
      ],
      "source": [
        "#3D Array\n",
        "\n",
        "c = np.array([[1,2,3],[4,5,6],[7,8,9]])\n",
        "print(c)\n",
        "\n",
        "#3D NumPy array is also know as Tensor."
      ]
    },
    {
      "cell_type": "code",
      "execution_count": 5,
      "metadata": {
        "colab": {
          "base_uri": "https://localhost:8080/"
        },
        "id": "LQLv60l3Omf6",
        "outputId": "ce7a7778-0617-4615-e1c9-4bac1c556dbc"
      },
      "outputs": [
        {
          "data": {
            "text/plain": [
              "array([1., 2., 3.])"
            ]
          },
          "execution_count": 5,
          "metadata": {},
          "output_type": "execute_result"
        }
      ],
      "source": [
        "#Custom Data Types NumPy Array (Float)\n",
        "\n",
        "np.array([1,2,3],dtype=float)"
      ]
    },
    {
      "cell_type": "code",
      "execution_count": 6,
      "metadata": {
        "colab": {
          "base_uri": "https://localhost:8080/"
        },
        "id": "kO__aqnrPnw-",
        "outputId": "7598a5d1-9eae-44fd-e4d9-58eec231a49b"
      },
      "outputs": [
        {
          "data": {
            "text/plain": [
              "array([ True,  True,  True, False])"
            ]
          },
          "execution_count": 6,
          "metadata": {},
          "output_type": "execute_result"
        }
      ],
      "source": [
        "#Custom Data Types NumPy Array (Bool)\n",
        "\n",
        "np.array([1,2,3,0],dtype= bool)"
      ]
    },
    {
      "cell_type": "code",
      "execution_count": 7,
      "metadata": {
        "colab": {
          "base_uri": "https://localhost:8080/"
        },
        "id": "ldQ1P3l5Q4V9",
        "outputId": "d375fc6e-17cc-4d02-c595-df94110327b0"
      },
      "outputs": [
        {
          "data": {
            "text/plain": [
              "array([1.+0.j, 2.+0.j, 3.+0.j])"
            ]
          },
          "execution_count": 7,
          "metadata": {},
          "output_type": "execute_result"
        }
      ],
      "source": [
        "#Custom Data Types NumPy Array (Complex)\n",
        "\n",
        "np.array([1,2,3],dtype=complex)"
      ]
    },
    {
      "cell_type": "code",
      "execution_count": 8,
      "metadata": {
        "colab": {
          "base_uri": "https://localhost:8080/"
        },
        "id": "jAOSg_MORRql",
        "outputId": "96e2919a-5b57-44d7-def9-b27dbe85fca7"
      },
      "outputs": [
        {
          "data": {
            "text/plain": [
              "array([ 1,  2,  3,  4,  5,  6,  7,  8,  9, 10])"
            ]
          },
          "execution_count": 8,
          "metadata": {},
          "output_type": "execute_result"
        }
      ],
      "source": [
        "#NumPy Arange (Work Like a Python Range[Frist one Included and Last one Excluded])\n",
        "\n",
        "#Array can be created with Array and Arange\n",
        "\n",
        "np.arange(1,11)"
      ]
    },
    {
      "cell_type": "code",
      "execution_count": 9,
      "metadata": {
        "colab": {
          "base_uri": "https://localhost:8080/"
        },
        "id": "8uitpG-ZRsEN",
        "outputId": "c78fb632-1f2c-486c-975e-2ef5ae7fc848"
      },
      "outputs": [
        {
          "data": {
            "text/plain": [
              "array([ 1,  5,  9, 13, 17])"
            ]
          },
          "execution_count": 9,
          "metadata": {},
          "output_type": "execute_result"
        }
      ],
      "source": [
        "#NumPy Arange With Gap (4 Will be taken as Arange)\n",
        "\n",
        "np.arange(1,20,4)"
      ]
    },
    {
      "cell_type": "code",
      "execution_count": 10,
      "metadata": {
        "colab": {
          "base_uri": "https://localhost:8080/"
        },
        "id": "JbZIKYOhR-qo",
        "outputId": "902887e6-1c75-489a-a1e2-bad188d14194"
      },
      "outputs": [
        {
          "data": {
            "text/plain": [
              "array([[ 1,  2],\n",
              "       [ 3,  4],\n",
              "       [ 5,  6],\n",
              "       [ 7,  8],\n",
              "       [ 9, 10]])"
            ]
          },
          "execution_count": 10,
          "metadata": {},
          "output_type": "execute_result"
        }
      ],
      "source": [
        "#NumPy Function Reshape\n",
        "\n",
        "np.arange(1,11).reshape(5,2) #(5 is row and 2 is column)"
      ]
    },
    {
      "cell_type": "code",
      "execution_count": 11,
      "metadata": {
        "colab": {
          "base_uri": "https://localhost:8080/"
        },
        "id": "J75itIAtU4xx",
        "outputId": "04ca11b5-1a46-403b-e6cb-43869981136d"
      },
      "outputs": [
        {
          "data": {
            "text/plain": [
              "array([[ 1,  2,  3,  4],\n",
              "       [ 5,  6,  7,  8],\n",
              "       [ 9, 10, 11, 12]])"
            ]
          },
          "execution_count": 11,
          "metadata": {},
          "output_type": "execute_result"
        }
      ],
      "source": [
        "np.arange(1,13).reshape(3,4)"
      ]
    },
    {
      "cell_type": "code",
      "execution_count": 12,
      "metadata": {
        "colab": {
          "base_uri": "https://localhost:8080/"
        },
        "id": "A-N06lyNUU3H",
        "outputId": "ee43c328-8fc1-4634-f724-cef4209a5aa4"
      },
      "outputs": [
        {
          "data": {
            "text/plain": [
              "array([[1., 1., 1., 1.],\n",
              "       [1., 1., 1., 1.],\n",
              "       [1., 1., 1., 1.]])"
            ]
          },
          "execution_count": 12,
          "metadata": {},
          "output_type": "execute_result"
        }
      ],
      "source": [
        "#NumPy Aray Ones\n",
        "\n",
        "np.ones((3,4))\n",
        "\n",
        "#Use Case of Np.ones:- Use in Neural Network and Use in Deep Learning and Use in intialization"
      ]
    },
    {
      "cell_type": "code",
      "execution_count": 13,
      "metadata": {
        "colab": {
          "base_uri": "https://localhost:8080/"
        },
        "id": "swXc24zQWY4G",
        "outputId": "70af8408-7a78-4fc9-ce9d-21a1b1953673"
      },
      "outputs": [
        {
          "data": {
            "text/plain": [
              "array([[0., 0., 0.],\n",
              "       [0., 0., 0.],\n",
              "       [0., 0., 0.],\n",
              "       [0., 0., 0.]])"
            ]
          },
          "execution_count": 13,
          "metadata": {},
          "output_type": "execute_result"
        }
      ],
      "source": [
        "#NumPy Array Zero\n",
        "\n",
        "np.zeros((4,3))\n",
        "\n"
      ]
    },
    {
      "cell_type": "code",
      "execution_count": 14,
      "metadata": {
        "colab": {
          "base_uri": "https://localhost:8080/"
        },
        "id": "ank1DR8bXFkt",
        "outputId": "fb0b67fe-18a7-45a6-efee-2ea68865c947"
      },
      "outputs": [
        {
          "data": {
            "text/plain": [
              "array([[0.3426045 , 0.12396662, 0.73551543, 0.40657812],\n",
              "       [0.03181752, 0.72068545, 0.20894505, 0.11644991],\n",
              "       [0.90185074, 0.15564291, 0.88502331, 0.54330436]])"
            ]
          },
          "execution_count": 14,
          "metadata": {},
          "output_type": "execute_result"
        }
      ],
      "source": [
        "#NumPy Random\n",
        "\n",
        "np.random.random((3,4))\n",
        "\n",
        "#Intialize With random Number"
      ]
    },
    {
      "cell_type": "code",
      "execution_count": 15,
      "metadata": {
        "colab": {
          "base_uri": "https://localhost:8080/"
        },
        "id": "XGouVRjZYMla",
        "outputId": "be485f27-5eca-48b9-8b73-3a57ffa79865"
      },
      "outputs": [
        {
          "data": {
            "text/plain": [
              "array([-10.        ,  -7.77777778,  -5.55555556,  -3.33333333,\n",
              "        -1.11111111,   1.11111111,   3.33333333,   5.55555556,\n",
              "         7.77777778,  10.        ])"
            ]
          },
          "execution_count": 15,
          "metadata": {},
          "output_type": "execute_result"
        }
      ],
      "source": [
        "#NumPy LinSpace\n",
        "#in a given rage it give number with equally distance\n",
        "\n",
        "np.linspace(-10,10,10) #(-10(lower Range) se lekar 10(Upper Range) tak 10(Number of intem that you want) number genrate kar ke do)"
      ]
    },
    {
      "cell_type": "code",
      "execution_count": 16,
      "metadata": {
        "colab": {
          "base_uri": "https://localhost:8080/"
        },
        "id": "EPV9YUVxYYie",
        "outputId": "5770ddda-80af-44bc-b8f4-1db3157a236b"
      },
      "outputs": [
        {
          "data": {
            "text/plain": [
              "array([[1., 0., 0.],\n",
              "       [0., 1., 0.],\n",
              "       [0., 0., 1.]])"
            ]
          },
          "execution_count": 16,
          "metadata": {},
          "output_type": "execute_result"
        }
      ],
      "source": [
        "#np.identity\n",
        "\n",
        "#Indetity Matrix is that martix which diagnoal item are 1 and other diagonal item is zero\n",
        "\n",
        "np.identity(3)"
      ]
    },
    {
      "cell_type": "markdown",
      "metadata": {
        "id": "qagHxg5eavV8"
      },
      "source": [
        "# **Array Attributes**"
      ]
    },
    {
      "cell_type": "code",
      "execution_count": 17,
      "metadata": {
        "colab": {
          "base_uri": "https://localhost:8080/"
        },
        "id": "prOACHq6aFQc",
        "outputId": "d027fd47-dfb0-4786-b7dd-14aa4ddc1f76"
      },
      "outputs": [],
      "source": [
        "a1 = np.arange(10) #1d array (vector)\n",
        "a2 = np.arange(12,dtype=float).reshape(3,4) #Matrix\n",
        "a3 = np.arange(8).reshape(2,2,2) #Tesor (3d)\n"
      ]
    },
    {
      "cell_type": "code",
      "execution_count": 18,
      "metadata": {
        "colab": {
          "base_uri": "https://localhost:8080/"
        },
        "id": "F2F6bus4bBtT",
        "outputId": "388d93ed-7e8f-4387-a8f2-ac4f595aed22"
      },
      "outputs": [
        {
          "name": "stdout",
          "output_type": "stream",
          "text": [
            "1\n",
            "2\n",
            "3\n"
          ]
        }
      ],
      "source": [
        "#ndim (Number of dimension)\n",
        "\n",
        "print(a1.ndim) #1d array\n",
        "print(a2.ndim) #2d Array\n",
        "print(a3.ndim) #3d Array\n"
      ]
    },
    {
      "cell_type": "code",
      "execution_count": 20,
      "metadata": {
        "id": "IKwaUQpHbTXq"
      },
      "outputs": [
        {
          "name": "stdout",
          "output_type": "stream",
          "text": [
            "(10,)\n",
            "(3, 4)\n",
            "(2, 2, 2)\n"
          ]
        }
      ],
      "source": [
        "#Shape\n",
        "\n",
        "print(a1.shape) #1d array\n",
        "print(a2.shape) #2d Array\n",
        "print(a3.shape) #3d Array"
      ]
    },
    {
      "cell_type": "code",
      "execution_count": 21,
      "metadata": {},
      "outputs": [
        {
          "name": "stdout",
          "output_type": "stream",
          "text": [
            "10\n",
            "12\n",
            "8\n"
          ]
        }
      ],
      "source": [
        "#Size\n",
        "print(a1.size) #1d array\n",
        "print(a2.size) #2d Array\n",
        "print(a3.size) #3d Array"
      ]
    },
    {
      "cell_type": "code",
      "execution_count": null,
      "metadata": {},
      "outputs": [],
      "source": []
    }
  ],
  "metadata": {
    "colab": {
      "authorship_tag": "ABX9TyOC1oL7D7GJPA49Fi9c+gC+",
      "include_colab_link": true,
      "provenance": []
    },
    "kernelspec": {
      "display_name": "Python 3",
      "name": "python3"
    },
    "language_info": {
      "codemirror_mode": {
        "name": "ipython",
        "version": 3
      },
      "file_extension": ".py",
      "mimetype": "text/x-python",
      "name": "python",
      "nbconvert_exporter": "python",
      "pygments_lexer": "ipython3",
      "version": "3.12.3"
    }
  },
  "nbformat": 4,
  "nbformat_minor": 0
}
